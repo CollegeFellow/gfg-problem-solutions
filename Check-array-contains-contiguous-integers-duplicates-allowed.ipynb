{
 "cells": [
  {
   "cell_type": "markdown",
   "metadata": {},
   "source": [
    "# Check if array contains contiguous integers with duplicates allowed"
   ]
  },
  {
   "cell_type": "markdown",
   "metadata": {},
   "source": [
    "Given an array of n integers(duplicates allowed). Print “Yes” if it is a set of contiguous integers else print “No”."
   ]
  },
  {
   "cell_type": "markdown",
   "metadata": {},
   "source": [
    "Examples:\n",
    "```\n",
    "Input : arr[] = {5, 2, 3, 6, 4, 4, 6, 6}\n",
    "Output : Yes\n",
    "The elements form a contiguous set of integers\n",
    "which is {2, 3, 4, 5, 6}.\n",
    "\n",
    "Input : arr[] = {10, 14, 10, 12, 12, 13, 15}\n",
    "Output : No\n",
    "```"
   ]
  },
  {
   "cell_type": "code",
   "execution_count": 3,
   "metadata": {
    "collapsed": true
   },
   "outputs": [],
   "source": [
    "input1 = [5, 2, 3, 6, 4, 4, 6, 6]\n",
    "input2 = [10, 14, 10, 12, 12, 13, 15]"
   ]
  },
  {
   "cell_type": "markdown",
   "metadata": {},
   "source": [
    "My attempt here will be to sort the array in ascending order and then check each consecutive element whether it has atmost difference of one."
   ]
  },
  {
   "cell_type": "code",
   "execution_count": 38,
   "metadata": {
    "collapsed": false
   },
   "outputs": [],
   "source": [
    "def check_contiguous_ints(arr):\n",
    "    \"\"\" This function will print 'Yes' if given set is contiguous integers else 'No'. \"\"\"\n",
    "    list.sort(arr)                             # Sort the given set in ascending order\n",
    "    res = True\n",
    "    for i,n in enumerate((arr[:-1]),start=0):  # Skipping the last element in loop\n",
    "        if ((arr[i+1] - arr[i]) > 1):          # Check diff between current and next element\n",
    "            res = False\n",
    "    print('Yes' if res else 'No')"
   ]
  },
  {
   "cell_type": "markdown",
   "metadata": {},
   "source": [
    "Now lets check with the given input:"
   ]
  },
  {
   "cell_type": "code",
   "execution_count": 34,
   "metadata": {
    "collapsed": false
   },
   "outputs": [
    {
     "name": "stdout",
     "output_type": "stream",
     "text": [
      "Yes\n"
     ]
    }
   ],
   "source": [
    "check_contiguous_ints(input1)"
   ]
  },
  {
   "cell_type": "code",
   "execution_count": 35,
   "metadata": {
    "collapsed": false
   },
   "outputs": [
    {
     "name": "stdout",
     "output_type": "stream",
     "text": [
      "No\n"
     ]
    }
   ],
   "source": [
    "check_contiguous_ints(input2)"
   ]
  },
  {
   "cell_type": "markdown",
   "metadata": {},
   "source": [
    "Checking with custom input,"
   ]
  },
  {
   "cell_type": "code",
   "execution_count": 37,
   "metadata": {
    "collapsed": false
   },
   "outputs": [
    {
     "name": "stdout",
     "output_type": "stream",
     "text": [
      "Yes\n",
      "No\n"
     ]
    }
   ],
   "source": [
    "check_contiguous_ints([1,3,3,3,2,6,5,5,4])\n",
    "check_contiguous_ints([1,3,9,3,2,6,5,5,4])"
   ]
  }
 ],
 "metadata": {
  "kernelspec": {
   "display_name": "Python 3",
   "language": "python",
   "name": "python3"
  },
  "language_info": {
   "codemirror_mode": {
    "name": "ipython",
    "version": 3
   },
   "file_extension": ".py",
   "mimetype": "text/x-python",
   "name": "python",
   "nbconvert_exporter": "python",
   "pygments_lexer": "ipython3",
   "version": "3.4.3"
  }
 },
 "nbformat": 4,
 "nbformat_minor": 2
}
